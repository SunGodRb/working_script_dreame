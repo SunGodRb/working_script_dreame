{
 "cells": [
  {
   "cell_type": "code",
   "execution_count": null,
   "metadata": {},
   "outputs": [],
   "source": [
    "\"\"\"\n",
    "important param:\n",
    "app_id\n",
    "app_secret\n",
    "headers = {‘Authorization’: f’Bearer {get_token()}', ## 获取tenant_access_token, 需要替换为实际的token\n",
    "\"\"\""
   ]
  },
  {
   "cell_type": "code",
   "execution_count": 2,
   "metadata": {},
   "outputs": [],
   "source": [
    "import requests\n",
    "from requests_toolbelt import MultipartEncoder\n",
    "import json\n",
    "import logging\n",
    "import logger"
   ]
  },
  {
   "cell_type": "code",
   "execution_count": null,
   "metadata": {},
   "outputs": [],
   "source": []
  },
  {
   "cell_type": "code",
   "execution_count": null,
   "metadata": {},
   "outputs": [],
   "source": [
    "def get_token():\n",
    "    # 获取tenant_access_token，供上传图片接口使用\n",
    "    url = \"https://open.feishu.cn/open-apis/auth/v3/tenant_access_token/internal\"\n",
    "    headers = {\n",
    "        \"Content-Type\": \"application/json; charset=utf-8\",\n",
    "    }\n",
    "    payload_data = {\n",
    "        \"app_id\": \"cli_xxx\",\n",
    "        \"app_secret\": \"xxx\",\n",
    "    }\n",
    "    response = requests.post(url=url, data=json.dumps(payload_data), headers=headers).json()\n",
    "    print(response)\n",
    "    token = response['tenant_access_token']\n",
    "    return token\n"
   ]
  },
  {
   "cell_type": "code",
   "execution_count": null,
   "metadata": {},
   "outputs": [],
   "source": [
    "def upload_file(file_path):\n",
    "    try:\n",
    "        file_name = file_path.split(',')[0]\n",
    "        url = \"https://open.feishu.cn/open-apis/im/v1/files\"\n",
    "        form = {'file_type': 'stream',\n",
    "                'file_name': file_name,\n",
    "                'file': (file_name, open(file_path, 'rb'),\n",
    "                         'text/plain')}  # 需要替换具体的path  具体的格式参考  https://www.w3school.com.cn/media/media_mimeref.asp\n",
    "        multi_form = MultipartEncoder(form)\n",
    "        headers = {'Authorization': f'Bearer {get_token()}',  ## 获取tenant_access_token, 需要替换为实际的token\n",
    "                   }\n",
    "        headers['Content-Type'] = multi_form.content_type\n",
    "        r = requests.request(\"POST\", url, headers=headers, data=multi_form)\n",
    "        print(r.json())\n",
    "        # print(response.headers['X-Tt-Logid'])  # for debug or oncall\n",
    "        # print(response.content)  # Print Response\n",
    "        if r.json().get(\"code\") == 0 and r.json().get(\"msg\") == \"success\":\n",
    "            logger.info(f\"上传文件到飞书成功，msg={r.json()},{file_path=}\")\n",
    "            media_id = r.json().get('data').get('file_key')\n",
    "            return media_id\n",
    "        else:\n",
    "            logger.warning(f\"上传文件到飞书异常,{r.json()=},{file_path=}\")\n",
    "\n",
    "        # Press the green button in the gutter to run the script.\n",
    "\n",
    "    except Exception as e:\n",
    "        # logger.warning(\"上传文件到企业微信失败\")\n",
    "        print(\"上传文件到飞书失败\")\n",
    "        print(e)\n",
    "        # logger.warning(e)\n",
    "        pass\n"
   ]
  },
  {
   "cell_type": "code",
   "execution_count": null,
   "metadata": {},
   "outputs": [],
   "source": [
    "def get_qun_list():\n",
    "    url = 'https://open.feishu.cn/open-apis/im/v1/chats'\n",
    "    headers = {\n",
    "        'Authorization': 'Bearer ' + get_token()\n",
    "    }\n",
    "    response = requests.get(url=url, headers=headers)\n",
    "    print(response.json())\n",
    "    return response.json()['data']['items']\n",
    "\n",
    "\n",
    "def get_by_name(qun_name):\n",
    "    items = get_qun_list()\n",
    "    for i in items:\n",
    "        if i.get('name') == str(qun_name):\n",
    "            print(i.get('chat_id'))\n",
    "            return i.get('chat_id')\n"
   ]
  }
 ],
 "metadata": {
  "kernelspec": {
   "display_name": "base",
   "language": "python",
   "name": "python3"
  },
  "language_info": {
   "codemirror_mode": {
    "name": "ipython",
    "version": 3
   },
   "file_extension": ".py",
   "mimetype": "text/x-python",
   "name": "python",
   "nbconvert_exporter": "python",
   "pygments_lexer": "ipython3",
   "version": "3.12.4"
  }
 },
 "nbformat": 4,
 "nbformat_minor": 2
}
